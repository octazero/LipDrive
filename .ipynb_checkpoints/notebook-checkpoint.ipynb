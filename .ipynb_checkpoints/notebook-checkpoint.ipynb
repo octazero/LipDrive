{
 "cells": [
  {
   "cell_type": "code",
   "execution_count": 112,
   "metadata": {},
   "outputs": [
    {
     "name": "stdout",
     "output_type": "stream",
     "text": [
      "hellos\n"
     ]
    }
   ],
   "source": [
    "print(\"hellos\")\n",
    "from keras.models import Sequential,load_model\n",
    "from keras.layers import LSTM ,Dense ,ConvLSTM2D,Flatten,Dropout\n",
    "from keras.utils import to_categorical\n",
    "from keras.optimizers import SGD\n",
    "import operator\n",
    "from keras.callbacks import EarlyStopping,ModelCheckpoint\n",
    "from JSON import load_data_from_csv_word_inDiction,load_data_from_csv_wordCount\n",
    "import matplotlib.pyplot as plt\n",
    "import numpy as np \n",
    "from sklearn.model_selection import train_test_split"
   ]
  },
  {
   "cell_type": "code",
   "execution_count": 113,
   "metadata": {},
   "outputs": [
    {
     "name": "stdout",
     "output_type": "stream",
     "text": [
      "start\n",
      "done\n"
     ]
    }
   ],
   "source": [
    "print(\"start\")\n",
    "x,y,d=load_data_from_csv_wordCount(sizeOfDataSet=5,file=\"/home/octazero/Downloads/DatasetGeoAreaPar.csv\")\n",
    "# xtest,ytest=load_data_from_csv_word_inDiction(sizeOfDataSet=0,file=\"test_dataset.csv\",dict=d)\n",
    "# xv,yv=load_data_from_csv_word_inDiction(sizeOfDataSet=0,file=\"validate_dataset.csv\",dict=d)\n",
    "x,xtest,y,ytest=train_test_split(x, y, test_size=0.2, random_state=77)\n",
    "x=x.reshape(len(x),29,20)\n",
    "xtest=xtest.reshape(len(xtest),29,20)\n",
    "# xv=xv.reshape(len(xv),29,10)\n",
    "# yt.sort()\n",
    "# ytest.sort()\n",
    "# yv.sort()\n",
    "uniques, id_test1=np.unique(y,return_inverse=True)\n",
    "y=to_categorical(id_test1,5)\n",
    "\n",
    "uniques, id_test=np.unique(ytest,return_inverse=True)\n",
    "ytest=to_categorical(id_test,5)\n",
    "\n",
    "# yt=yt.reshape(len(yt),10,1)\n",
    "# ytest=ytest.reshape(len(ytest),10,1)\n",
    "# uniques, id_test=np.unique(yv,return_inverse=True)\n",
    "# yv=to_categorical(id_test,10)\n",
    "\n",
    "print(\"done\")\n"
   ]
  },
  {
   "cell_type": "code",
   "execution_count": 114,
   "metadata": {},
   "outputs": [
    {
     "name": "stdout",
     "output_type": "stream",
     "text": [
      "3886\n"
     ]
    }
   ],
   "source": [
    "print(len(x))\n",
    "# print(x[0])\n",
    "# print(y[0])"
   ]
  },
  {
   "cell_type": "code",
   "execution_count": 179,
   "metadata": {},
   "outputs": [],
   "source": [
    "\n",
    "ES=EarlyStopping(patience=3)\n",
    "check=ModelCheckpoint(filepath=\"model5.h5\",save_best_only=True,period=1,mode=\"min\")\n",
    "Model=Sequential()\n",
    "Model.add(LSTM(8, return_sequences=True,input_shape=(29,20)))\n",
    "Model.add(LSTM(16 , return_sequences=True))\n",
    "Model.add(LSTM(32,return_sequences=True))\n",
    "Model.add(LSTM(32,return_sequences=True))\n",
    "# Model.add(LSTM(32,return_sequences=True))\n",
    "# Model.add(LSTM(256,activation='relu',return_sequences=True))\n",
    "# Model.add(LSTM(128,activation='relu',return_sequences=True))\n",
    "# Model.add(LSTM(64,activation='relu',return_sequences=True))\n",
    "# Model.add(LSTM(32,activation='relu'))\n",
    "Model.add(Flatten())\n",
    "Model.add(Flatten())\n",
    "Model.add(Dense(512,activation='relu'))\n",
    "Model.add(Dense(512,activation='relu'))\n",
    "# Model.add(Dense(512,activation='relu'))\n",
    "Model.add(Dense(5,activation='softmax'))\n",
    "Model.compile(loss='categorical_crossentropy', optimizer='RMSprop',\n",
    "metrics=['accuracy'])"
   ]
  },
  {
   "cell_type": "code",
   "execution_count": 180,
   "metadata": {},
   "outputs": [
    {
     "name": "stdout",
     "output_type": "stream",
     "text": [
      "Train on 3886 samples, validate on 972 samples\n",
      "Epoch 1/20\n",
      "3886/3886 [==============================] - 30s - loss: 1.6115 - acc: 0.2131 - val_loss: 1.5986 - val_acc: 0.2294\n",
      "Epoch 2/20\n",
      "3886/3886 [==============================] - 13s - loss: 1.5569 - acc: 0.2890 - val_loss: 1.5066 - val_acc: 0.3447\n",
      "Epoch 3/20\n",
      "3886/3886 [==============================] - 14s - loss: 1.4996 - acc: 0.3294 - val_loss: 1.4744 - val_acc: 0.3683\n",
      "Epoch 4/20\n",
      "3886/3886 [==============================] - 15s - loss: 1.4580 - acc: 0.3574 - val_loss: 1.5436 - val_acc: 0.3529\n",
      "Epoch 5/20\n",
      "3886/3886 [==============================] - 14s - loss: 1.4166 - acc: 0.4094 - val_loss: 1.4933 - val_acc: 0.3745\n",
      "Epoch 6/20\n",
      "3886/3886 [==============================] - 14s - loss: 1.4145 - acc: 0.4081 - val_loss: 1.5637 - val_acc: 0.2644\n",
      "Epoch 7/20\n",
      "3886/3886 [==============================] - 14s - loss: 1.4232 - acc: 0.3811 - val_loss: 1.9141 - val_acc: 0.2181\n",
      "Epoch 8/20\n",
      "3886/3886 [==============================] - 14s - loss: 1.4116 - acc: 0.4007 - val_loss: 1.3856 - val_acc: 0.4393\n",
      "Epoch 9/20\n",
      "3886/3886 [==============================] - 14s - loss: 1.3422 - acc: 0.4501 - val_loss: 1.4250 - val_acc: 0.4270\n",
      "Epoch 10/20\n",
      "3886/3886 [==============================] - 14s - loss: 1.3339 - acc: 0.4575 - val_loss: 1.3432 - val_acc: 0.4743\n",
      "Epoch 11/20\n",
      "3886/3886 [==============================] - 13s - loss: 1.2991 - acc: 0.4866 - val_loss: 1.3100 - val_acc: 0.4733\n",
      "Epoch 12/20\n",
      "3886/3886 [==============================] - 13s - loss: 1.2832 - acc: 0.4954 - val_loss: 1.3177 - val_acc: 0.5154\n",
      "Epoch 13/20\n",
      "3886/3886 [==============================] - 14s - loss: 1.2828 - acc: 0.4987 - val_loss: 1.2909 - val_acc: 0.4784\n",
      "Epoch 14/20\n",
      "3886/3886 [==============================] - 13s - loss: 1.2569 - acc: 0.5093 - val_loss: 1.3196 - val_acc: 0.4938\n",
      "Epoch 15/20\n",
      "3886/3886 [==============================] - 13s - loss: 1.2527 - acc: 0.5136 - val_loss: 1.2813 - val_acc: 0.5154\n",
      "Epoch 16/20\n",
      "3886/3886 [==============================] - 14s - loss: 1.2473 - acc: 0.5221 - val_loss: 1.2511 - val_acc: 0.5216\n",
      "Epoch 17/20\n",
      "3886/3886 [==============================] - 13s - loss: 1.2414 - acc: 0.5244 - val_loss: 1.2862 - val_acc: 0.5021\n",
      "Epoch 18/20\n",
      "3886/3886 [==============================] - 14s - loss: 1.2630 - acc: 0.5057 - val_loss: 1.3994 - val_acc: 0.3899\n",
      "Epoch 19/20\n",
      "3886/3886 [==============================] - 13s - loss: 1.2386 - acc: 0.5142 - val_loss: 1.2880 - val_acc: 0.5041\n",
      "Epoch 20/20\n",
      "3886/3886 [==============================] - 13s - loss: 1.2338 - acc: 0.5221 - val_loss: 1.3863 - val_acc: 0.3940\n"
     ]
    }
   ],
   "source": [
    "train_result=Model.fit(x,y,validation_data=(xtest,ytest),epochs=20,callbacks=[check])"
   ]
  },
  {
   "cell_type": "markdown",
   "metadata": {
    "collapsed": true
   },
   "source": [
    "## "
   ]
  },
  {
   "cell_type": "code",
   "execution_count": 52,
   "metadata": {},
   "outputs": [
    {
     "name": "stdout",
     "output_type": "stream",
     "text": [
      "960/972 [============================>.] - ETA: 0s[1.5815173019597559, 0.23765432098765432]\n"
     ]
    }
   ],
   "source": [
    "print(Model.evaluate(xtest,ytest))"
   ]
  },
  {
   "cell_type": "code",
   "execution_count": null,
   "metadata": {
    "collapsed": true
   },
   "outputs": [],
   "source": [
    "for layersin Model.layers[-1]:\n",
    "    layers.trainable=False"
   ]
  }
 ],
 "metadata": {
  "kernelspec": {
   "display_name": "Python 3",
   "language": "python",
   "name": "python3"
  },
  "language_info": {
   "codemirror_mode": {
    "name": "ipython",
    "version": 3
   },
   "file_extension": ".py",
   "mimetype": "text/x-python",
   "name": "python",
   "nbconvert_exporter": "python",
   "pygments_lexer": "ipython3",
   "version": "3.6.2"
  }
 },
 "nbformat": 4,
 "nbformat_minor": 1
}
