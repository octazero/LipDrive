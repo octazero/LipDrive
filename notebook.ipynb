{
 "cells": [
  {
   "cell_type": "code",
   "execution_count": 1,
   "metadata": {},
   "outputs": [
    {
     "name": "stdout",
     "output_type": "stream",
     "text": [
      "hellos\n"
     ]
    },
    {
     "name": "stderr",
     "output_type": "stream",
     "text": [
      "Using Theano backend.\n"
     ]
    },
    {
     "name": "stdout",
     "output_type": "stream",
     "text": [
      "done\n"
     ]
    }
   ],
   "source": [
    "print(\"hellos\")\n",
    "from keras.models import Sequential,load_model\n",
    "from keras.layers import LSTM ,Dense ,ConvLSTM2D,Flatten,Dropout\n",
    "from keras.utils import to_categorical\n",
    "from keras.optimizers import SGD\n",
    "import operator\n",
    "from keras.callbacks import EarlyStopping,ModelCheckpoint\n",
    "from JSON import load_data_from_csv_word_inDiction,load_data_from_csv_wordCount\n",
    "import matplotlib.pyplot as plt\n",
    "import numpy as np \n",
    "import conf\n",
    "from sklearn.model_selection import train_test_split\n",
    "print(\"done\")"
   ]
  },
  {
   "cell_type": "code",
   "execution_count": 37,
   "metadata": {},
   "outputs": [
    {
     "data": {
      "text/plain": [
       "<generator object load_data_from_csv_wordCount at 0x7fe5511d4518>"
      ]
     },
     "execution_count": 37,
     "metadata": {},
     "output_type": "execute_result"
    }
   ],
   "source": [
    "def load_data_from_csv_wordCount(sizeOfDataSet=0, file=None):\n",
    "    # pass 0 in sizeOfDataSet to get full dataset\n",
    "    file = open(file, 'r')\n",
    "    data = np.array([])\n",
    "    dicti={}\n",
    "    newDict={}\n",
    "    cls = []\n",
    "    index = -1\n",
    "    deletedd=False\n",
    "    totalWords=np.load(\"wo.npy\")\n",
    "    for i in range(290):\n",
    "            data=np.append(data,0)\n",
    "    data=np.expand_dims(data,axis=0)\n",
    "    for video in file:\n",
    "\n",
    "        if (sizeOfDataSet != 0):\n",
    "            if (len(dicti) == sizeOfDataSet+1):\n",
    "                break;\n",
    "\n",
    "        if index == -1:\n",
    "            index += 1\n",
    "            continue;\n",
    "\n",
    "        features = video.split(',')\n",
    "        # if(len(features)<580) or len(features)> 590:\n",
    "        #     continue;\n",
    "        if features[291]=='28.30194339616981' :\n",
    "            print(\"why\")\n",
    "        if features[291][:-1] not in dicti:\n",
    "            dicti[features[291][:-1]]=1\n",
    "            newDict[features[291][:-1]]=[]\n",
    "        else  :\n",
    "            dicti[features[291][:-1]]+=1\n",
    "        # elif dict[features[581]] == 950:\n",
    "        #     continue;\n",
    "        # # print(features[581] != 'BANKS')\n",
    "#         data.append([])\n",
    "\n",
    "        # print(1)\n",
    "        \n",
    "        array_features=[]\n",
    "        for i in range(1, 291):\n",
    "            array_features=np.append(array_features,features[i])\n",
    "            if (i == 290):\n",
    "                cls.append(features[291][:-1])\n",
    "#         data=np.array(data)\n",
    "#         print(len(array_features))\n",
    "#         print(len(data[-1]))\n",
    "        data=np.append(data,[array_features],axis=0)\n",
    "#         print(len(data))\n",
    "        array_features=[]\n",
    "        if(deletedd==False):\n",
    "            deletedd=True\n",
    "            data=np.delete(data,0,0)\n",
    "#         data=data.astype('float')/data.max()\n",
    "        output=data.reshape(len(data),29,10)\n",
    "        labels=[]\n",
    "        for label in cls:\n",
    "            labels.append(np.where(totalWords==label)[0][0])\n",
    "        y=to_categorical(labels,500)\n",
    "#         print(len(output),len(y))\n",
    "        yield (output, y)\n",
    "        \n",
    "#         break\n",
    "#         index += 1\n",
    "    # print('why')\n",
    "    if sizeOfDataSet !=0:\n",
    "        dicti.popitem()\n",
    "        newDict.popitem()\n",
    "        data=data[:len(data)-1]\n",
    "        cls = cls[:len(cls) - 1]\n",
    "    return np.array(output,dtype=float), np.array(cls)\n",
    "load_data_from_csv_wordCount(sizeOfDataSet=5,file=\"Geometric.csv\")\n",
    "# print(len(x))"
   ]
  },
  {
   "cell_type": "code",
   "execution_count": 2,
   "metadata": {},
   "outputs": [
    {
     "name": "stdout",
     "output_type": "stream",
     "text": [
      "start\n",
      "ourInterpolate.csv\n",
      "['left' 'move' 'right' 'stop']\n",
      "done\n"
     ]
    }
   ],
   "source": [
    "import json\n",
    "print(\"start\")\n",
    "classes=10\n",
    "x,y,d=load_data_from_csv_wordCount(sizeOfDataSet=0,file=\"ourInterpolate.csv\")\n",
    "# xtest,ytest=load_data_from_csv_word_inDiction(sizeOfDataSet=0,file=\"test_dataset.csv\",dict=d)\n",
    "# xv,yv=load_data_from_csv_word_inDiction(sizeOfDataSet=0,file=\"validate_dataset.csv\",dict=d)\n",
    "# print(y[0])\n",
    "# print(y[:23])\n",
    "x=x.astype('float')/x.max()\n",
    "x,xtest,y,ytest=train_test_split(x, y, test_size=0.1, random_state=613)\n",
    "x=x.reshape(len(x),110,10)\n",
    "xtest=xtest.reshape(len(xtest),110,10)\n",
    "# xv=xv.reshape(len(xv),29,10)\n",
    "# yt.sort()\n",
    "# ytest.sort()\n",
    "# yv.sort()\n",
    "# with open('words.json', 'w') as fp:\n",
    "#     json.dump(d, fp)\n",
    "# with open('words.json', 'r') as fp:\n",
    "#     da=json.load( fp)\n",
    "#     k,v=da.items()[0]\n",
    "#     print(k)\n",
    "\n",
    "# print(y[0])\n",
    "uniques, id_test1=np.unique(y,return_inverse=True)\n",
    "\n",
    "# uniques=np.sort(uniques)\n",
    "# print(uniques)\n",
    "y=to_categorical(id_test1,classes)\n",
    "# print(y[0])\n",
    "uniques, id_test=np.unique(ytest,return_inverse=True)\n",
    "ytest=to_categorical(id_test,classes)\n",
    "print(uniques)\n",
    "# yt=yt.reshape(len(yt),10,1)\n",
    "# ytest=ytest.reshape(len(ytest),10,1)\n",
    "# uniques, id_test=np.unique(yv,return_inverse=True)\n",
    "# yv=to_categorical(id_test,10)\n",
    "\n",
    "print(\"done\")\n"
   ]
  },
  {
   "cell_type": "code",
   "execution_count": 7,
   "metadata": {},
   "outputs": [
    {
     "ename": "NameError",
     "evalue": "name 'uniques' is not defined",
     "output_type": "error",
     "traceback": [
      "\u001b[0;31m---------------------------------------------------------------------------\u001b[0m",
      "\u001b[0;31mNameError\u001b[0m                                 Traceback (most recent call last)",
      "\u001b[0;32m<ipython-input-7-dc8d48bb5be7>\u001b[0m in \u001b[0;36m<module>\u001b[0;34m()\u001b[0m\n\u001b[0;32m----> 1\u001b[0;31m \u001b[0mprint\u001b[0m\u001b[0;34m(\u001b[0m\u001b[0muniques\u001b[0m\u001b[0;34m)\u001b[0m\u001b[0;34m\u001b[0m\u001b[0m\n\u001b[0m\u001b[1;32m      2\u001b[0m \u001b[0mprint\u001b[0m\u001b[0;34m(\u001b[0m\u001b[0md\u001b[0m\u001b[0;34m)\u001b[0m\u001b[0;34m\u001b[0m\u001b[0m\n",
      "\u001b[0;31mNameError\u001b[0m: name 'uniques' is not defined"
     ]
    }
   ],
   "source": [
    "print(y[0])\n",
    "print(d)"
   ]
  },
  {
   "cell_type": "code",
   "execution_count": 5,
   "metadata": {
    "collapsed": true
   },
   "outputs": [],
   "source": [
    "\n",
    "ES=EarlyStopping(patience=5)\n",
    "# print(x)\n",
    "filepath=\"saved10/weights.{epoch:02d}.h5\"\n",
    "check = ModelCheckpoint(filepath, monitor='val_acc', verbose=1, save_best_only=False, mode='max')\n",
    "Model=Sequential()\n",
    "Model.add(LSTM(128,return_sequences=True,input_shape=(110,10)))\n",
    "\n",
    "Model.add(LSTM(128 , return_sequences=True))\n",
    "\n",
    "Model.add(LSTM(64,return_sequences=True))\n",
    "\n",
    "# Model.add(LSTM(32,return_sequences=True))\n",
    "\n",
    "# Model.add(LSTM(32,return_sequences=True))\n",
    "\n",
    "# Model.add(LSTM(16,return_sequences=True))\n",
    "\n",
    "# Model.add(LSTM(128,return_sequences=True))\n",
    "\n",
    "# Model.add(LSTM(64,return_sequences=True))\n",
    "\n",
    "# Model.add(LSTM(32,return_sequences=True))\n",
    "Model.add(Flatten())\n",
    "Model.add(Dense(256,activation='relu'))\n",
    "Model.add(Dense(256,activation='relu'))\n",
    "# Model.add(Dense(512,activation='relu'))\n",
    "Model.add(Dense(classes,activation='softmax'))\n",
    "Model.compile(loss='categorical_crossentropy', optimizer='RMSprop',\n",
    "metrics=['accuracy'])\n",
    "# print(y.shape)"
   ]
  },
  {
   "cell_type": "code",
   "execution_count": 6,
   "metadata": {},
   "outputs": [
    {
     "name": "stdout",
     "output_type": "stream",
     "text": [
      "Train on 189 samples, validate on 22 samples\n",
      "Epoch 1/40\n",
      "160/189 [========================>.....] - ETA: 0s - loss: 1.9510 - acc: 0.2500 Epoch 00000: saving model to saved10/weights.00.h5\n",
      "189/189 [==============================] - 3s - loss: 2.5289 - acc: 0.2434 - val_loss: 1.9589 - val_acc: 0.3636\n",
      "Epoch 2/40\n",
      "160/189 [========================>.....] - ETA: 0s - loss: 1.6450 - acc: 0.2437Epoch 00001: saving model to saved10/weights.01.h5\n",
      "189/189 [==============================] - 2s - loss: 1.6240 - acc: 0.2222 - val_loss: 1.6139 - val_acc: 0.1364\n",
      "Epoch 3/40\n",
      "160/189 [========================>.....] - ETA: 0s - loss: 1.4950 - acc: 0.2375Epoch 00002: saving model to saved10/weights.02.h5\n",
      "189/189 [==============================] - 2s - loss: 1.4861 - acc: 0.2381 - val_loss: 1.3680 - val_acc: 0.3636\n",
      "Epoch 4/40\n",
      "160/189 [========================>.....] - ETA: 0s - loss: 1.4514 - acc: 0.2062Epoch 00003: saving model to saved10/weights.03.h5\n",
      "189/189 [==============================] - 2s - loss: 1.4461 - acc: 0.2063 - val_loss: 1.4127 - val_acc: 0.2727\n",
      "Epoch 5/40\n",
      "160/189 [========================>.....] - ETA: 0s - loss: 1.4611 - acc: 0.2062Epoch 00004: saving model to saved10/weights.04.h5\n",
      "189/189 [==============================] - 2s - loss: 1.4527 - acc: 0.2222 - val_loss: 1.3821 - val_acc: 0.2727\n",
      "Epoch 6/40\n",
      "160/189 [========================>.....] - ETA: 0s - loss: 1.4598 - acc: 0.2375Epoch 00005: saving model to saved10/weights.05.h5\n",
      "189/189 [==============================] - 2s - loss: 1.4471 - acc: 0.2328 - val_loss: 1.6629 - val_acc: 0.1364\n",
      "Epoch 7/40\n",
      "160/189 [========================>.....] - ETA: 0s - loss: 1.4167 - acc: 0.2938Epoch 00006: saving model to saved10/weights.06.h5\n",
      "189/189 [==============================] - 2s - loss: 1.4255 - acc: 0.2857 - val_loss: 1.5177 - val_acc: 0.1364\n",
      "Epoch 8/40\n",
      "160/189 [========================>.....] - ETA: 0s - loss: 1.4308 - acc: 0.2437Epoch 00007: saving model to saved10/weights.07.h5\n",
      "189/189 [==============================] - 2s - loss: 1.4524 - acc: 0.2275 - val_loss: 1.3531 - val_acc: 0.3182\n",
      "Epoch 9/40\n",
      "160/189 [========================>.....] - ETA: 0s - loss: 1.4400 - acc: 0.2375Epoch 00008: saving model to saved10/weights.08.h5\n",
      "189/189 [==============================] - 2s - loss: 1.4427 - acc: 0.2487 - val_loss: 1.6223 - val_acc: 0.1364\n",
      "Epoch 10/40\n",
      "160/189 [========================>.....] - ETA: 0s - loss: 1.4736 - acc: 0.2250Epoch 00009: saving model to saved10/weights.09.h5\n",
      "189/189 [==============================] - 2s - loss: 1.4679 - acc: 0.2169 - val_loss: 1.3811 - val_acc: 0.2727\n",
      "Epoch 11/40\n",
      "160/189 [========================>.....] - ETA: 0s - loss: 1.4073 - acc: 0.2313Epoch 00010: saving model to saved10/weights.10.h5\n",
      "189/189 [==============================] - 2s - loss: 1.4041 - acc: 0.2222 - val_loss: 1.4428 - val_acc: 0.2727\n",
      "Epoch 12/40\n",
      "160/189 [========================>.....] - ETA: 0s - loss: 1.4816 - acc: 0.2562Epoch 00011: saving model to saved10/weights.11.h5\n",
      "189/189 [==============================] - 2s - loss: 1.4684 - acc: 0.2593 - val_loss: 1.5599 - val_acc: 0.1818\n",
      "Epoch 13/40\n",
      "160/189 [========================>.....] - ETA: 0s - loss: 1.4742 - acc: 0.2188Epoch 00012: saving model to saved10/weights.12.h5\n",
      "189/189 [==============================] - 2s - loss: 1.4585 - acc: 0.2275 - val_loss: 1.4681 - val_acc: 0.1818\n",
      "Epoch 14/40\n",
      "160/189 [========================>.....] - ETA: 0s - loss: 1.4015 - acc: 0.2313Epoch 00013: saving model to saved10/weights.13.h5\n",
      "189/189 [==============================] - 3s - loss: 1.3974 - acc: 0.2328 - val_loss: 1.5191 - val_acc: 0.1818\n"
     ]
    }
   ],
   "source": [
    "train_result=Model.fit(x,y,validation_data=(xtest,ytest),epochs=40,callbacks=[ES,check])\n",
    "# Model.fit_generator(load_data_from_csv_wordCount(sizeOfDataSet=0,file=\"Geometric.csv\"),\n",
    "#         steps_per_epoch=1000, epochs=10)"
   ]
  },
  {
   "cell_type": "markdown",
   "metadata": {
    "collapsed": true
   },
   "source": [
    "## "
   ]
  },
  {
   "cell_type": "code",
   "execution_count": 8,
   "metadata": {
    "collapsed": true
   },
   "outputs": [],
   "source": [
    "Model=load_model(\"models/weights.16.h5\")\n",
    "counter=0\n",
    "for i in range(len(xtest)):\n",
    "    result=Model.predict(np.array([xtest[i]]))\n",
    "    res=np.argmax(result)\n",
    "    tr=np.argmax(ytest[i])\n",
    "    if tr ==res:\n",
    "        \n",
    "        counter+=1"
   ]
  },
  {
   "cell_type": "code",
   "execution_count": 8,
   "metadata": {},
   "outputs": [
    {
     "name": "stdout",
     "output_type": "stream",
     "text": [
      "1/1 [==============================] - 0s\n",
      "1/1 [==============================] - 0s\n",
      "1/1 [==============================] - 0s\n",
      "1/1 [==============================] - 0s\n",
      "1/1 [==============================] - 0s\n",
      "1/1 [==============================] - 0s\n",
      "1/1 [==============================] - 0s\n",
      "1/1 [==============================] - 0s\n",
      "1/1 [==============================] - 0s\n",
      "1/1 [==============================] - 0s\n",
      "1/1 [==============================] - 0s\n",
      "1/1 [==============================] - 0s\n",
      "1/1 [==============================] - 0s\n",
      "1/1 [==============================] - 0s\n",
      "1/1 [==============================] - 0s\n",
      "1/1 [==============================] - 0s\n",
      "1/1 [==============================] - 0s\n",
      "1/1 [==============================] - 0s\n",
      "1/1 [==============================] - 0s\n",
      "1/1 [==============================] - 0s\n",
      "1/1 [==============================] - 0s\n",
      "1/1 [==============================] - 0s\n",
      "Normalized confusion matrix\n",
      "[[ 1.  0.  0.  0.]\n",
      " [ 1.  0.  0.  0.]\n",
      " [ 1.  0.  0.  0.]\n",
      " [ 1.  0.  0.  0.]]\n"
     ]
    },
    {
     "data": {
      "image/png": "[encoded data removed]",
      "text/plain": [
       "<matplotlib.figure.Figure at 0x7fb578bf4390>"
      ]
     },
     "metadata": {},
     "output_type": "display_data"
    }
   ],
   "source": [
    "import conf\n",
    "from keras.models import load_model\n",
    "Model=load_model(\"saved10/weights.00.h5\")\n",
    "conf.cnfu_matrix(uniques,Model,xtest,ytest,\"LSTM\")\n",
    "# print(counter)"
   ]
  },
  {
   "cell_type": "code",
   "execution_count": 16,
   "metadata": {},
   "outputs": [
    {
     "name": "stdout",
     "output_type": "stream",
     "text": [
      "1944\n",
      "['ABOUT' 'ABSOLUTELY' 'AROUND' 'ARRESTED' 'ATTACK' 'BECAUSE' 'BELIEVE'\n",
      " 'BENEFITS' 'BETWEEN' 'BIGGEST']\n"
     ]
    }
   ],
   "source": [
    "print(len(xtest))\n",
    "print(uniques)"
   ]
  },
  {
   "cell_type": "code",
   "execution_count": 72,
   "metadata": {},
   "outputs": [
    {
     "name": "stdout",
     "output_type": "stream",
     "text": [
      "[[  2.51884647e-02   5.12446230e-03   5.67834117e-02   1.00564407e-02\n",
      "    6.50422080e-05   1.77863752e-04   1.54663468e-07   9.02542174e-01\n",
      "    6.45804960e-07   6.13278316e-05]]\n"
     ]
    }
   ],
   "source": [
    "tgroba=[197.06344156134085, 39.05124837953327, 58.215118311311535, 56.08029957123981, 58.0, 42.04759208325728, 167.0748335327616, 11.180339887498949, 12.0, 12.0, 197.06344156134085, 35.35533905932738, 52.61178575186362, 45.27692569068709, 50.0, 37.0, 169.14490828872147, 5.830951894845301, 5.830951894845301, 5.0, 197.06344156134085, 40.311288741492746, 55.57877292636101, 50.039984012787215, 55.0, 42.0, 167.0748335327616, 8.602325267042627, 7.280109889280518, 5.830951894845301, 197.06344156134085, 40.311288741492746, 52.23983154643591, 48.041648597857254, 52.0, 40.0, 165.07574019219177, 5.385164807134504, 2.0, 3.605551275463989, 197.25364381932212, 39.319206502675, 51.24451190127583, 44.04543109109048, 51.0, 40.11234224026316, 165.14841809717706, 5.385164807134504, 3.605551275463989, 2.0, 197.57024067404484, 35.35533905932738, 45.70557952810576, 42.2965719651132, 47.042533945356304, 37.0, 167.4305826305338, 5.830951894845301, 5.0, 5.385164807134504, 197.57024067404484, 40.311288741492746, 55.226805085936306, 50.039984012787215, 55.0, 43.04648650006177, 167.4305826305338, 10.44030650891055, 7.0, 8.0, 197.25364381932212, 42.2965719651132, 54.589376255824725, 52.23983154643591, 55.0, 40.0, 168.1903683330291, 5.830951894845301, 5.385164807134504, 5.0, 197.12432625122653, 44.28317965096906, 58.54912467321779, 54.230987451824994, 59.07622195096772, 44.04543109109048, 165.19382555047267, 5.385164807134504, 5.0, 3.605551275463989, 197.1623696347759, 49.25444142409901, 69.46221994724903, 64.07027391856539, 69.0, 49.0, 168.07438829280326, 13.0, 13.0, 12.0, 197.12432625122653, 64.07027391856539, 93.34345183246653, 89.1403387922662, 94.0, 67.0, 165.14841809717706, 37.05401462729781, 39.0, 40.0, 197.25364381932212, 73.43704787094863, 104.30723848324239, 100.12492197250393, 103.01941564578979, 72.0, 165.3027525481654, 45.27692569068709, 45.09988913511872, 42.04759208325728, 197.1623696347759, 61.204574992397426, 88.36288813749809, 85.05292469985967, 88.0, 64.0, 163.37074401495514, 24.186773244895647, 24.186773244895647, 24.0, 197.0101520226813, 48.25971404805462, 62.20128616033595, 58.077534382926416, 62.0, 45.09988913511872, 165.0272704737008, 5.830951894845301, 5.0, 5.0, 197.06344156134085, 59.21148537234985, 82.38931969618392, 77.1621668954417, 82.0, 58.0, 162.11107303327555, 21.095023109728988, 21.095023109728988, 19.235384061671343, 197.06344156134085, 62.20128616033595, 84.2140130857092, 77.02596964660685, 85.0, 60.0, 163.07666908543356, 18.24828759089466, 18.0, 18.0, 197.3068675946177, 50.635955604688654, 75.4254598925323, 70.178344238091, 72.02777242147643, 52.0, 161.31026005806325, 11.40175425099138, 10.0, 7.0, 197.42846805868703, 52.46903848937962, 74.43117626371358, 67.06713054842886, 72.02777242147643, 52.0, 164.51443705644803, 10.44030650891055, 10.44030650891055, 10.0, 197.25364381932212, 50.24937810560445, 72.44308110509934, 65.19202405202648, 70.02856560004639, 48.093658625644196, 165.51132891738862, 15.811388300841896, 15.132745950421556, 13.152946437965905, 197.42846805868703, 53.23532661682466, 75.66372975210778, 70.178344238091, 72.02777242147643, 50.0, 165.43578814754684, 13.92838827718412, 12.36931687685298, 13.152946437965905, 197.42846805868703, 49.49747468305833, 71.7007670809734, 67.1863081289633, 72.02777242147643, 49.040799340956916, 163.44112089679268, 15.297058540778355, 12.36931687685298, 15.132745950421556, 197.36514383244068, 50.24937810560445, 72.3394774656273, 70.02856560004639, 73.0, 50.0, 165.3027525481654, 15.297058540778355, 15.132745950421556, 12.0, 197.36514383244068, 50.48762224545735, 70.34912934784623, 68.18357573492314, 70.02856560004639, 47.0, 165.51132891738862, 12.36931687685298, 12.36931687685298, 12.165525060596439, 197.25364381932212, 45.5411901469428, 62.80127387243033, 60.207972893961475, 63.0317380372777, 45.09988913511872, 165.19382555047267, 7.280109889280518, 7.280109889280518, 5.0, 197.25364381932212, 43.289721643826724, 62.80127387243033, 55.226805085936306, 60.0, 45.09988913511872, 167.29913329123974, 8.246211251235321, 5.385164807134504, 5.0, 197.25364381932212, 42.2965719651132, 59.53990258641679, 52.23983154643591, 57.0350769263968, 42.0, 168.2973558912914, 5.385164807134504, 3.0, 5.0, 197.57024067404484, 45.70557952810576, 62.80127387243033, 57.21887800367987, 62.07253821135398, 45.0, 165.43578814754684, 5.830951894845301, 4.242640687119285, 3.0, 197.42846805868703, 40.311288741492746, 60.8276253029822, 55.57877292636101, 60.07495318350236, 43.104524124504614, 167.4305826305338, 5.830951894845301, 5.385164807134504, 3.605551275463989, 197.25364381932212, 41.773197148410844, 55.90169943749474, 50.48762224545735, 55.226805085936306, 41.0, 171.23667831396403, 2.8284271247461903, 2.8284271247461903, 0.0]\n",
    "tgroba=np.reshape(tgroba,(29,10))\n",
    "print(Model.predict(np.array([tgroba])))"
   ]
  },
  {
   "cell_type": "code",
   "execution_count": 9,
   "metadata": {},
   "outputs": [
    {
     "name": "stdout",
     "output_type": "stream",
     "text": [
      "0.6831275720164609\n"
     ]
    }
   ],
   "source": [
    "print(counter/len(xtest))"
   ]
  },
  {
   "cell_type": "code",
   "execution_count": 24,
   "metadata": {},
   "outputs": [
    {
     "name": "stdout",
     "output_type": "stream",
     "text": [
      "['ABOUT' 'ABSOLUTELY' 'AROUND' 'ARRESTED' 'ATTACK' 'BECAUSE' 'BELIEVE'\n",
      " 'BENEFITS' 'BETWEEN' 'BIGGEST']\n"
     ]
    }
   ],
   "source": [
    "print(uniques)\n",
    "uniques=np.array(uniques)\n",
    "np.save(\"words\",uniques)"
   ]
  },
  {
   "cell_type": "code",
   "execution_count": 9,
   "metadata": {},
   "outputs": [
    {
     "name": "stdout",
     "output_type": "stream",
     "text": [
      "[[  2.17556907e-03   7.67382383e-01   1.19242774e-04   4.57068090e-04\n",
      "    4.91949868e-06   9.50241275e-03   2.76764331e-04   2.14363009e-01\n",
      "    4.98431223e-03   7.34325615e-04]]\n"
     ]
    }
   ],
   "source": [
    "from keras.models import load_model\n",
    "#Model=load_model(\"LSTM.h5\")\n",
    "print(Model.predict(np.array([xtest[0]])))"
   ]
  },
  {
   "cell_type": "code",
   "execution_count": null,
   "metadata": {
    "collapsed": true
   },
   "outputs": [],
   "source": []
  }
 ],
 "metadata": {
  "kernelspec": {
   "display_name": "Python 3",
   "language": "python",
   "name": "python3"
  },
  "language_info": {
   "codemirror_mode": {
    "name": "ipython",
    "version": 3
   },
   "file_extension": ".py",
   "mimetype": "text/x-python",
   "name": "python",
   "nbconvert_exporter": "python",
   "pygments_lexer": "ipython3",
   "version": "3.6.2"
  }
 },
 "nbformat": 4,
 "nbformat_minor": 1
}
